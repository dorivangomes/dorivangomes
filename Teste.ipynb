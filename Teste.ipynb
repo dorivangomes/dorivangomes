{
  "nbformat": 4,
  "nbformat_minor": 0,
  "metadata": {
    "colab": {
      "name": "Teste.ipynb",
      "provenance": [],
      "authorship_tag": "ABX9TyPWOYPlV5Vpy9gqv2YP7tsx",
      "include_colab_link": true
    },
    "kernelspec": {
      "name": "python3",
      "display_name": "Python 3"
    },
    "language_info": {
      "name": "python"
    }
  },
  "cells": [
    {
      "cell_type": "markdown",
      "metadata": {
        "id": "view-in-github",
        "colab_type": "text"
      },
      "source": [
        "<a href=\"https://colab.research.google.com/github/dorivangomes/dorivangomes/blob/main/Teste.ipynb\" target=\"_parent\"><img src=\"https://colab.research.google.com/assets/colab-badge.svg\" alt=\"Open In Colab\"/></a>"
      ]
    },
    {
      "cell_type": "code",
      "source": [
        "a=input('Boa tarde, qual seu nome?')\n",
        "print('Como vai seu Dorivan')\n",
        "a=input('qunatos anos o senhor tem?')\n",
        "print('Nossa você é novo!')\n"
      ],
      "metadata": {
        "colab": {
          "base_uri": "https://localhost:8080/"
        },
        "id": "Oi91Q4crVEe1",
        "outputId": "3f13cb87-78a0-4ff8-d485-547c5fbd9d11"
      },
      "execution_count": 5,
      "outputs": [
        {
          "output_type": "stream",
          "name": "stdout",
          "text": [
            "Boa tarde, qual seu nome?Dorivan\n",
            "Como vai seu Dorivan\n",
            "qunatos anos o senhor tem?26\n",
            "Nossa você é novo!\n"
          ]
        }
      ]
    }
  ]
}